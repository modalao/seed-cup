{
 "cells": [
  {
   "cell_type": "code",
   "execution_count": 1,
   "metadata": {},
   "outputs": [],
   "source": [
    "import torch\n",
    "import torch.nn as nn"
   ]
  },
  {
   "cell_type": "code",
   "execution_count": 3,
   "metadata": {},
   "outputs": [],
   "source": [
    "class SimpleCNN(nn.Module):\n",
    "    def __init__(self, conv_output_dim, fc_output_dim, n_act) -> None:\n",
    "        super().__init__()\n",
    "        self.conv_output_dim = conv_output_dim\n",
    "        self.fc_output_dim = fc_output_dim\n",
    "\n",
    "        self.conv1 = nn.Conv2d(in_channels=1, out_channels=8, kernel_size=3, stride=1, padding=1)\n",
    "        self.relu = nn.ReLU()\n",
    "        self.maxpool = nn.MaxPool2d(kernel_size=2, stride=2)\n",
    "        self.fc1 = nn.Linear(8 * 7 * 7, conv_output_dim)  # Adjust the output size based on your requirements\n",
    "\n",
    "        self.fc2 = torch.nn.Linear(15, fc_output_dim)\n",
    "        self.relu2 = torch.nn.ReLU()\n",
    "\n",
    "        self.final_fc1 = nn.Linear(self.fc_output_dim + self.conv_output_dim, 256)\n",
    "        self.final_relu1 = nn.ReLU()\n",
    "        self.final_fc2 = nn.Linear(256, n_act)\n",
    "\n",
    "\n",
    "    def cnn(self, x):\n",
    "        \"\"\"\n",
    "        x:(B, 15, 15)\n",
    "        \"\"\"\n",
    "        B = x.shape[0]\n",
    "        x = x.view(B, 1, 15, 15)\n",
    "        x = self.conv1(x)\n",
    "        x = self.relu(x)\n",
    "        x = self.maxpool(x)\n",
    "        x = x.view(x.size(0), -1)  # Flatten the tensor\n",
    "        x = self.fc1(x)\n",
    "        return x\n",
    "    \n",
    "    def fc(self, x):\n",
    "        \"\"\"\n",
    "        x: (B, 15)\n",
    "        \"\"\"\n",
    "        return self.relu2(self.fc2(x))\n",
    "\n",
    "    def final_fc(self, x):\n",
    "        return self.final_fc2(self.final_relu1(self.final_fc1(x)))\n",
    "    \n",
    "    def forward(self, x_map, x_player):\n",
    "        x_map = torch.stack(x_map, dim=0)  # (B, 15, 15)\n",
    "        x_map_flat = self.cnn(x_map)  # (B, conv_output_dim)\n",
    "        x_player = torch.stack(x_player, dim=0)\n",
    "        x_player = self.fc(x_player)  # (B, fc_output_dim)\n",
    "        x = torch.concat((x_map_flat, x_player), dim=1)  # (B, conv_output_dim+fc_output_dim)\n",
    "        return self.final_fc(x)"
   ]
  },
  {
   "cell_type": "code",
   "execution_count": 4,
   "metadata": {},
   "outputs": [
    {
     "name": "stdout",
     "output_type": "stream",
     "text": [
      "torch.Size([3, 36])\n"
     ]
    }
   ],
   "source": [
    "net = SimpleCNN(256, 32, 36)\n",
    "B = 3\n",
    "x_map = tuple([torch.rand(size=(15, 15)) for _ in range(B)])\n",
    "# print(x_map[0])\n",
    "x_player = tuple([torch.rand(15) for _ in range(B)])\n",
    "res = net(x_map, x_player)\n",
    "print(res.shape)"
   ]
  }
 ],
 "metadata": {
  "kernelspec": {
   "display_name": "rl-torch",
   "language": "python",
   "name": "python3"
  },
  "language_info": {
   "codemirror_mode": {
    "name": "ipython",
    "version": 3
   },
   "file_extension": ".py",
   "mimetype": "text/x-python",
   "name": "python",
   "nbconvert_exporter": "python",
   "pygments_lexer": "ipython3",
   "version": "3.8.18"
  }
 },
 "nbformat": 4,
 "nbformat_minor": 2
}
