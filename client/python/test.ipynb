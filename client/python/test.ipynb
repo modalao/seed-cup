{
 "cells": [
  {
   "cell_type": "code",
   "execution_count": 3,
   "metadata": {},
   "outputs": [
    {
     "name": "stdout",
     "output_type": "stream",
     "text": [
      "0.3333333333333333\n"
     ]
    }
   ],
   "source": [
    "reward =1\n",
    "tot = 3\n",
    "print(reward*1.0/tot)"
   ]
  },
  {
   "cell_type": "code",
   "execution_count": 2,
   "metadata": {},
   "outputs": [
    {
     "name": "stdout",
     "output_type": "stream",
     "text": [
      "3\n"
     ]
    }
   ],
   "source": [
    "size = 7\n",
    "s = int(size/2)\n",
    "print(s)"
   ]
  },
  {
   "cell_type": "code",
   "execution_count": 21,
   "metadata": {},
   "outputs": [
    {
     "name": "stdout",
     "output_type": "stream",
     "text": [
      "1 1 1 1 1 1 1 \n",
      "1 1 1 1 1 1 1 \n",
      "1 1 1 1 1 1 1 \n",
      "1 1 1 100 1 1 1 \n",
      "1 1 1 1 1 1 1 \n",
      "1 1 1 1 1 1 1 \n",
      "-1 -1 -1 -1 -1 -1 -1 \n"
     ]
    }
   ],
   "source": [
    "def transform(next_obs_state,x,y):\n",
    "        #缩小地图范围\n",
    "        next_obs_state1=[[0 for _ in range(transform_map_size)] for __ in range(transform_map_size)]\n",
    "        size = int(transform_map_size/2)\n",
    "        for i in range(x-size,x+size+1):\n",
    "            for j in range(y-size,y+size+1):\n",
    "                if(i>=0 and i<15 and j>=0 and j<15):\n",
    "                    next_obs_state1[i-x+size][j-y+size]=next_obs_state[i][j]\n",
    "                else:\n",
    "                    next_obs_state1[i-x+size][j-y+size]=-1\n",
    "        return next_obs_state1\n",
    "    \n",
    "transform_map_size =7\n",
    "\n",
    "\n",
    "map=[[1 for _ in range(15)] for __ in range(15)]\n",
    "x =12\n",
    "y =11\n",
    "map[x][y]=100\n",
    "map1 = transform(map,x,y)\n",
    "for i in range(7):\n",
    "    for j in range(7):\n",
    "        print(map1[i][j],end=' ')\n",
    "    print('')\n"
   ]
  }
 ],
 "metadata": {
  "kernelspec": {
   "display_name": "seedcup",
   "language": "python",
   "name": "python3"
  },
  "language_info": {
   "codemirror_mode": {
    "name": "ipython",
    "version": 3
   },
   "file_extension": ".py",
   "mimetype": "text/x-python",
   "name": "python",
   "nbconvert_exporter": "python",
   "pygments_lexer": "ipython3",
   "version": "3.8.18"
  }
 },
 "nbformat": 4,
 "nbformat_minor": 2
}
