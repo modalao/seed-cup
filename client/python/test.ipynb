{
 "cells": [
  {
   "cell_type": "code",
   "execution_count": 1,
   "metadata": {},
   "outputs": [
    {
     "name": "stdout",
     "output_type": "stream",
     "text": [
      "1\n"
     ]
    }
   ],
   "source": [
    "a = 1\n",
    "b = a\n",
    "a = 2\n",
    "print(b)"
   ]
  },
  {
   "cell_type": "code",
   "execution_count": 2,
   "metadata": {},
   "outputs": [
    {
     "name": "stdout",
     "output_type": "stream",
     "text": [
      "2\n"
     ]
    }
   ],
   "source": [
    "class Int():\n",
    "    def __init__(self) -> None:\n",
    "        self.a = 1\n",
    "\n",
    "old = Int()\n",
    "new = old\n",
    "old.a = 2\n",
    "print(new.a)"
   ]
  },
  {
   "cell_type": "code",
   "execution_count": null,
   "metadata": {},
   "outputs": [],
   "source": [
    "while True:  # update resp\n",
    "            self.lock_interaction.acquire()\n",
    "            if gContext[\"gameOverFlag\"] == True:\n",
    "                flag = 0\n",
    "            elif self.next_resp.data.round == self.cur_round:\n",
    "                flag = 1\n",
    "            else:\n",
    "                flag = 0  \n",
    "            self.lock_interaction.release()\n",
    "            # print(flag)\n",
    "            if flag:\n",
    "                continue\n",
    "            else:\n",
    "                break"
   ]
  }
 ],
 "metadata": {
  "kernelspec": {
   "display_name": "rl-torch",
   "language": "python",
   "name": "python3"
  },
  "language_info": {
   "codemirror_mode": {
    "name": "ipython",
    "version": 3
   },
   "file_extension": ".py",
   "mimetype": "text/x-python",
   "name": "python",
   "nbconvert_exporter": "python",
   "pygments_lexer": "ipython3",
   "version": "3.8.18"
  }
 },
 "nbformat": 4,
 "nbformat_minor": 2
}
